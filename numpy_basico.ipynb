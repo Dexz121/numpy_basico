{
 "cells": [
  {
   "cell_type": "code",
   "execution_count": 2,
   "id": "4458b948-ccb7-4b72-8a5e-65b83406805e",
   "metadata": {},
   "outputs": [
    {
     "name": "stdout",
     "output_type": "stream",
     "text": [
      "[[58, 64], [139, 154]]\n"
     ]
    }
   ],
   "source": [
    "import numpy as np\n",
    "def multiplicar_matrices(A, B):\n",
    "    # obtener dimensiones\n",
    "    filas_A = len(A)\n",
    "    cols_A = len(A[0])\n",
    "    filas_B = len(B)\n",
    "    cols_B = len(B[0])\n",
    "\n",
    "    # checar si se pueden multiplicar A y B\n",
    "    if cols_A != filas_B:\n",
    "        raise ValueError(\"El número de columnas de A debe ser igual al número de filas de B\")\n",
    "\n",
    "    # Inicializar una matriz vacía con ceros\n",
    "    matriz_resultado = []\n",
    "    for _ in range(filas_A):\n",
    "        fila = []\n",
    "        for _ in range(cols_B):\n",
    "            fila.append(0)\n",
    "        matriz_resultado.append(fila)\n",
    "\n",
    "    # realizar multiplicación\n",
    "    for i in range(filas_A):\n",
    "        for j in range(cols_B):\n",
    "            for k in range(cols_A):\n",
    "                matriz_resultado[i][j] += A[i][k] * B[k][j]\n",
    "\n",
    "    return matriz_resultado\n",
    "\n",
    "# Ejemplo\n",
    "A = [\n",
    "    [1, 2, 3],\n",
    "    [4, 5, 6]\n",
    "]\n",
    "B = [\n",
    "    [7, 8],\n",
    "    [9, 10],\n",
    "    [11, 12]\n",
    "]\n",
    "C = multiplicar_matrices(A, B)\n",
    "print(C)"
   ]
  },
  {
   "cell_type": "code",
   "execution_count": 3,
   "id": "00da5f2d-e9c3-49ed-bc46-a5b364269ff0",
   "metadata": {},
   "outputs": [
    {
     "name": "stdout",
     "output_type": "stream",
     "text": [
      "[8, 5, 6, 3, 3]\n",
      "[4, 10, 8, 7, 7]\n",
      "[2, 8, 10, 4, 6]\n",
      "[7, 7, 2, 8, 4]\n",
      "[6, 8, 4, 1, 10]\n"
     ]
    }
   ],
   "source": [
    "import random\n",
    "\n",
    "def generar_matriz_aleatoria(N):\n",
    "    matriz = []\n",
    "    for i in range(N):\n",
    "        fila = []\n",
    "        for j in range(N):\n",
    "            fila.append(random.randint(1, 10))\n",
    "        matriz.append(fila)\n",
    "    return matriz\n",
    "\n",
    "# Ejemplo de uso\n",
    "N = 5\n",
    "matriz_aleatoria = generar_matriz_aleatoria(N)\n",
    "for fila in matriz_aleatoria:\n",
    "    print(fila)"
   ]
  },
  {
   "cell_type": "code",
   "execution_count": 4,
   "id": "0b646f94-3d87-4be0-a8c8-06bc420756a0",
   "metadata": {},
   "outputs": [],
   "source": [
    "def imprimir_matriz(matriz):\n",
    "    for fila in matriz:\n",
    "        fila_formateada = ' '.join(f'{elemento:2}' for elemento in fila)\n",
    "        print(fila_formateada)"
   ]
  },
  {
   "cell_type": "code",
   "execution_count": 22,
   "id": "9359df36-a329-42bf-a76c-3af75831605d",
   "metadata": {},
   "outputs": [
    {
     "name": "stdout",
     "output_type": "stream",
     "text": [
      "Matríz de 5x5:\n",
      " 7  1  5  3 10\n",
      " 4  5  3  3  2\n",
      " 4  4  6  7 10\n",
      " 7  4  6  3  9\n",
      " 7  9  2  1  6\n",
      "====================\n",
      "Matríz de 10x10:\n",
      " 8  3  7 10  7  1  1  9  5  3\n",
      " 8  3 10  5  5  7  2  7 10  9\n",
      " 4  5  3  2  2  6  7  8  3  7\n",
      " 4  6  5  2  8  5  1  6  6  2\n",
      " 2  4 10  1  8  3  5 10  6  2\n",
      " 5  3  4  1  9  6 10  7  4  6\n",
      " 4  6  9 10  3  2  5 10  4  6\n",
      " 5  6  7  7 10  6  4  6  6  6\n",
      " 4  1  7 10  6  8  5 10  7  4\n",
      " 5  3  1  4  5  9  9 10  2  2\n",
      "====================\n",
      "Matríz de 20x20:\n",
      " 1  8  3  9  9  4  1 10  7  6  7  4  9  6  3  1  1  4  2  3\n",
      " 7  5  5  1  7 10  4 10  3  5  3  2 10  9  6  3  8  7 10  4\n",
      " 4  9  9  2  4  8  2  5  4  8  4 10  7  2  6  4 10  5  6  6\n",
      " 1  6  5  4  5  1  1  2  9  1  9 10  7 10  7  9  2  2  8  1\n",
      " 3  5  8  1  9  6  3  8  3  9  8  9  4  6  1  6  3  4  4  6\n",
      "10 10  5  4 10  4  7  8  8 10  3  7  3  2  4  5 10  1 10  7\n",
      " 2  2  2  6  2  7  1  9  1  9  8  8  8  2  8  1  3  2  7  2\n",
      " 9  4  4  8  1  9  4  6  7  7  3 10  9  7  3  8  5  9 10  3\n",
      " 5  4  5  2  9  8  8  6 10  6  8  4  5  3  4  3 10  8  9  2\n",
      " 1 10  7  5  4  1  6  9  9  7  2  1  2  4  8  2  8  4  1  2\n",
      " 5  1  2  1 10  3  8  2  4  9  9  1  3  6  8  1 10  1  4  5\n",
      " 6  3  9  3  6  1  5  8 10  8  7  2  3  4  7 10  7  8  8  2\n",
      " 3  1  3  6  7  9  9  2  1  1  4  4  2  4  5  5  1  9  7  9\n",
      " 9  1 10  2  8  9  4 10  7  2  9  4  4  3  1 10 10  4  7  2\n",
      " 8  6  2  5 10  5  2  6  3  7  2  7  5  3  1  4  4  9  5  7\n",
      " 2  8  2  6  1  1  4 10  5  5  2  6  6  3  2  9  1  3  9 10\n",
      "10  7  7  7  8  9  7  7  6  4  9  4 10  2  2 10  1  7 10  9\n",
      " 3  2  5  4 10  9  5  3 10  9  2  7  1  9  7  8  1  3  5  2\n",
      " 6  6  2  5  7  4  8  4  8  6  1  1  9  2  1  1  6  5  2 10\n",
      " 1  5  2  1  6  5  4 10  8  1  9 10  8  4  3  3  9  3  6  4\n",
      "====================\n"
     ]
    }
   ],
   "source": [
    "print(\"Matríz de 5x5:\")\n",
    "m_5 = generar_matriz_aleatoria(5)\n",
    "imprimir_matriz(m_5)\n",
    "print(\"====================\")\n",
    "print(\"Matríz de 10x10:\")\n",
    "m_10 = generar_matriz_aleatoria(10)\n",
    "imprimir_matriz(m_10)\n",
    "print(\"====================\")\n",
    "print(\"Matríz de 20x20:\")\n",
    "m_20 = generar_matriz_aleatoria(20)\n",
    "imprimir_matriz(m_20)\n",
    "print(\"====================\")\n",
    "m_100 = generar_matriz_aleatoria(100)"
   ]
  },
  {
   "cell_type": "code",
   "execution_count": 6,
   "id": "6d19055e-1e02-4d74-bb1c-d39812b6b2ad",
   "metadata": {},
   "outputs": [],
   "source": [
    "import time"
   ]
  },
  {
   "cell_type": "code",
   "execution_count": 7,
   "id": "ba9afb4e-e8bf-4549-a00f-dc6064510fdb",
   "metadata": {},
   "outputs": [
    {
     "name": "stdout",
     "output_type": "stream",
     "text": [
      "La ejecución tardó 2e-05 seg.\n"
     ]
    }
   ],
   "source": [
    "start = time.time()\n",
    "# ejecutar código\n",
    "end = time.time()\n",
    "tiempo = round(end - start, 5)\n",
    "print(f\"La ejecución tardó {tiempo} seg.\")"
   ]
  },
  {
   "cell_type": "code",
   "execution_count": 23,
   "id": "43101923-cf31-4e06-923d-7bdeb34f313c",
   "metadata": {},
   "outputs": [
    {
     "ename": "TypeError",
     "evalue": "unsupported operand type(s) for @: 'list' and 'list'",
     "output_type": "error",
     "traceback": [
      "\u001b[0;31m---------------------------------------------------------------------------\u001b[0m",
      "\u001b[0;31mTypeError\u001b[0m                                 Traceback (most recent call last)",
      "Cell \u001b[0;32mIn[23], line 2\u001b[0m\n\u001b[1;32m      1\u001b[0m start \u001b[38;5;241m=\u001b[39m time\u001b[38;5;241m.\u001b[39mtime()\n\u001b[0;32m----> 2\u001b[0m \u001b[43mmultiplicar_matrices\u001b[49m\u001b[43m(\u001b[49m\u001b[43mm_5\u001b[49m\u001b[43m,\u001b[49m\u001b[43m \u001b[49m\u001b[43mm_5\u001b[49m\u001b[43m)\u001b[49m\n\u001b[1;32m      3\u001b[0m end \u001b[38;5;241m=\u001b[39m time\u001b[38;5;241m.\u001b[39mtime()\n\u001b[1;32m      4\u001b[0m tiempo \u001b[38;5;241m=\u001b[39m end \u001b[38;5;241m-\u001b[39m start\n",
      "Cell \u001b[0;32mIn[21], line 4\u001b[0m, in \u001b[0;36mmultiplicar_matrices\u001b[0;34m(A, B)\u001b[0m\n\u001b[1;32m      3\u001b[0m \u001b[38;5;28;01mdef\u001b[39;00m\u001b[38;5;250m \u001b[39m\u001b[38;5;21mmultiplicar_matrices\u001b[39m(A, B):\n\u001b[0;32m----> 4\u001b[0m     \u001b[38;5;28;01mreturn\u001b[39;00m \u001b[43mA\u001b[49m\u001b[43m \u001b[49m\u001b[38;5;241;43m@\u001b[39;49m\u001b[43m \u001b[49m\u001b[43mB\u001b[49m\n",
      "\u001b[0;31mTypeError\u001b[0m: unsupported operand type(s) for @: 'list' and 'list'"
     ]
    }
   ],
   "source": [
    "start = time.time()\n",
    "multiplicar_matrices(m_5, m_5)\n",
    "end = time.time()\n",
    "tiempo = end - start\n",
    "print(f\"Multiplicar dos matrices de 5x5 tardó {tiempo} seg.\")"
   ]
  },
  {
   "cell_type": "code",
   "execution_count": 10,
   "id": "0906b4cb-863c-4ffa-80be-80e92a08074c",
   "metadata": {},
   "outputs": [
    {
     "name": "stdout",
     "output_type": "stream",
     "text": [
      "Multiplicar dos matrices de 10x10 tardó 0.00019621849060058594 seg.\n"
     ]
    }
   ],
   "source": [
    "start = time.time()\n",
    "multiplicar_matrices(m_10, m_10)\n",
    "end = time.time()\n",
    "tiempo = end - start\n",
    "print(f\"Multiplicar dos matrices de 10x10 tardó {tiempo} seg.\")"
   ]
  },
  {
   "cell_type": "code",
   "execution_count": 12,
   "id": "86515092-bea1-4279-9d7b-7deaddbd2e3e",
   "metadata": {},
   "outputs": [
    {
     "name": "stdout",
     "output_type": "stream",
     "text": [
      "Multiplicar dos matrices de 10x10 tardó 0.00018405914306640625 seg.\n"
     ]
    }
   ],
   "source": [
    "start = time.time()\n",
    "multiplicar_matrices(m_10, m_10)\n",
    "end = time.time()\n",
    "tiempo = end - start\n",
    "print(f\"Multiplicar dos matrices de 10x10 tardó {tiempo} seg.\")"
   ]
  },
  {
   "cell_type": "code",
   "execution_count": 16,
   "id": "11926f9c-b407-4f6b-9b3a-ce5d4f327133",
   "metadata": {},
   "outputs": [],
   "source": [
    "import numpy as np\n",
    "\n",
    "m_1000 = np.random.rand(1000, 1000).astype(np.float64)  # matriz 1000x1000\n"
   ]
  },
  {
   "cell_type": "code",
   "execution_count": 17,
   "id": "0c0f3ece-8eba-4968-9637-86d2d9b10098",
   "metadata": {},
   "outputs": [
    {
     "name": "stdout",
     "output_type": "stream",
     "text": [
      "Multiplicar dos matrices de 1000x1000 tardó 505.8567521572113 seg.\n"
     ]
    }
   ],
   "source": [
    "start = time.time()\n",
    "multiplicar_matrices(m_1000, m_1000)\n",
    "end = time.time()\n",
    "tiempo = end - start\n",
    "print(f\"Multiplicar dos matrices de 1000x1000 tardó {tiempo} seg.\")"
   ]
  },
  {
   "cell_type": "code",
   "execution_count": 18,
   "id": "4dabcf9d-841e-441b-9dc9-cd283b90db5b",
   "metadata": {},
   "outputs": [],
   "source": [
    "import numpy as np\n",
    "np.save(\"m_1000.npy\", m_1000)\n"
   ]
  },
  {
   "cell_type": "code",
   "execution_count": 19,
   "id": "d6bf6e49-558c-4be8-afd2-4eab279065d8",
   "metadata": {},
   "outputs": [],
   "source": [
    "import numpy as np\n",
    "m_1000 = np.load(\"m_1000.npy\")\n"
   ]
  },
  {
   "cell_type": "code",
   "execution_count": 20,
   "id": "ebecf5f0-8c72-4187-947c-0dad33f037b3",
   "metadata": {},
   "outputs": [],
   "source": [
    "# datos.py\n",
    "import numpy as np\n",
    "m_1000 = np.random.rand(1000, 1000).astype(np.float64)\n"
   ]
  },
  {
   "cell_type": "code",
   "execution_count": null,
   "id": "e527207c-d786-4426-a93e-05ea07c86a51",
   "metadata": {},
   "outputs": [],
   "source": [
    "import numpy as np, time\n",
    "\n",
    "def multiplicar_matrices(A, B):\n",
    "    return A @ B  # usa BLAS optimizado\n",
    "\n",
    "start = time.time()\n",
    "multiplicar_matrices(m_1000, m_1000)\n",
    "end = time.time()\n",
    "print(\"Tiempo:\", end - start, \"s\")\n"
   ]
  },
  {
   "cell_type": "code",
   "execution_count": null,
   "id": "a0662c1d-1bf8-4aab-83e6-dccebc8d90ba",
   "metadata": {},
   "outputs": [],
   "source": [
    "np.random.seed(1)\n",
    "arr_rand = np.random.randint(0, 10, size=100)\n",
    "arr_rand"
   ]
  },
  {
   "cell_type": "code",
   "execution_count": null,
   "id": "1762adab-b178-4ef0-8e12-69c5570c56a7",
   "metadata": {},
   "outputs": [],
   "source": []
  }
 ],
 "metadata": {
  "kernelspec": {
   "display_name": "Python 3 (ipykernel)",
   "language": "python",
   "name": "python3"
  },
  "language_info": {
   "codemirror_mode": {
    "name": "ipython",
    "version": 3
   },
   "file_extension": ".py",
   "mimetype": "text/x-python",
   "name": "python",
   "nbconvert_exporter": "python",
   "pygments_lexer": "ipython3",
   "version": "3.12.3"
  }
 },
 "nbformat": 4,
 "nbformat_minor": 5
}
